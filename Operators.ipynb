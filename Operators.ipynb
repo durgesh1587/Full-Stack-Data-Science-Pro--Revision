{
 "cells": [
  {
   "cell_type": "markdown",
   "id": "300fe4e7-b7f6-4bcb-ac9d-c5f433d83375",
   "metadata": {},
   "source": [
    "Operators In Python"
   ]
  },
  {
   "cell_type": "code",
   "execution_count": 46,
   "id": "0bcc4559-e992-4153-843d-e269af0d2045",
   "metadata": {},
   "outputs": [],
   "source": [
    "#1.Assingment Operators\n",
    "#2.Comparison Operators\n",
    "#3.Logical Operators\n",
    "#4.Identity Operators\n",
    "#5.Membership Operators\n",
    "#6.Bitwise Operators\n",
    "#7.Arithmetic Operators"
   ]
  },
  {
   "cell_type": "markdown",
   "id": "e019d408-491b-4652-811f-ee585b393098",
   "metadata": {},
   "source": [
    "Arithmetic Operators"
   ]
  },
  {
   "cell_type": "code",
   "execution_count": 5,
   "id": "13366d3c-75d4-4dd7-8771-b1b051937ec3",
   "metadata": {},
   "outputs": [
    {
     "name": "stdout",
     "output_type": "stream",
     "text": [
      "5+6 is  11\n",
      "5-6 is  -1\n",
      "5/6 is  0.8333333333333334\n",
      "5*6 is  30\n",
      "5//6 is  0\n",
      "5**6 is  15625\n",
      "5%6 is  5\n"
     ]
    }
   ],
   "source": [
    "print(\"5+6 is \",5+6)\n",
    "print(\"5-6 is \",5-6)\n",
    "print(\"5/6 is \",5/6)\n",
    "print(\"5*6 is \",5*6)\n",
    "print(\"5//6 is \",5//6)\n",
    "print(\"5**6 is \",5**6)\n",
    "print(\"5%6 is \",5%6) # Reminder operators"
   ]
  },
  {
   "cell_type": "markdown",
   "id": "1c32f75c-48be-494b-a0e8-834f1e2cc6fa",
   "metadata": {},
   "source": [
    "2.Assingment Operators"
   ]
  },
  {
   "cell_type": "code",
   "execution_count": 36,
   "id": "63f9e712-40c1-4304-9cb8-5aaa37ea2160",
   "metadata": {},
   "outputs": [
    {
     "name": "stdout",
     "output_type": "stream",
     "text": [
      "Assingment operators\n"
     ]
    }
   ],
   "source": [
    "print(\"Assingment operators\")\n",
    "x =10"
   ]
  },
  {
   "cell_type": "code",
   "execution_count": 37,
   "id": "97607ea3-62c8-40f9-ae4d-a46a5dcb09f4",
   "metadata": {},
   "outputs": [
    {
     "name": "stdout",
     "output_type": "stream",
     "text": [
      "10\n"
     ]
    }
   ],
   "source": [
    "print(x)"
   ]
  },
  {
   "cell_type": "code",
   "execution_count": 38,
   "id": "3e43293b-8c67-43fc-9155-d186d78ac5f5",
   "metadata": {},
   "outputs": [],
   "source": [
    "x +=7 # this operators \"x\" value add 7 ."
   ]
  },
  {
   "cell_type": "code",
   "execution_count": 39,
   "id": "6284a55e-b8c9-4d0d-a816-d822109b40ee",
   "metadata": {},
   "outputs": [
    {
     "name": "stdout",
     "output_type": "stream",
     "text": [
      "17\n"
     ]
    }
   ],
   "source": [
    "print(x)"
   ]
  },
  {
   "cell_type": "code",
   "execution_count": 40,
   "id": "ffc1eeeb-1253-4a6c-8563-a70e50be6a7d",
   "metadata": {},
   "outputs": [],
   "source": [
    "x -=7 # this operators \"x=17\" negative  =7 . \n",
    "# output:10"
   ]
  },
  {
   "cell_type": "code",
   "execution_count": 41,
   "id": "2f51f851-33f8-4d61-9a05-e36f9ed41b4e",
   "metadata": {},
   "outputs": [
    {
     "name": "stdout",
     "output_type": "stream",
     "text": [
      "10\n"
     ]
    }
   ],
   "source": [
    "print(x)"
   ]
  },
  {
   "cell_type": "code",
   "execution_count": 42,
   "id": "228ddedb-aadc-4002-b64e-436531367f51",
   "metadata": {},
   "outputs": [],
   "source": [
    "x %=7"
   ]
  },
  {
   "cell_type": "code",
   "execution_count": 43,
   "id": "ad06f152-2392-4dc3-8eae-cc9af3bffd92",
   "metadata": {},
   "outputs": [
    {
     "name": "stdout",
     "output_type": "stream",
     "text": [
      "3\n"
     ]
    }
   ],
   "source": [
    "print(x)"
   ]
  },
  {
   "cell_type": "code",
   "execution_count": 44,
   "id": "ec78e853-d075-40b6-9778-8d950996becf",
   "metadata": {},
   "outputs": [],
   "source": [
    "x*=7"
   ]
  },
  {
   "cell_type": "code",
   "execution_count": 45,
   "id": "e48f8384-fa4b-40e0-9267-bdf7c107b8f8",
   "metadata": {},
   "outputs": [
    {
     "name": "stdout",
     "output_type": "stream",
     "text": [
      "21\n"
     ]
    }
   ],
   "source": [
    "print(x)"
   ]
  },
  {
   "cell_type": "markdown",
   "id": "59a4bc11-9dc1-42a6-b54a-aad98825f07f",
   "metadata": {},
   "source": [
    "Comparison Operators"
   ]
  },
  {
   "cell_type": "code",
   "execution_count": 1,
   "id": "cea36ede-861e-4065-ab69-686a4845b7db",
   "metadata": {},
   "outputs": [],
   "source": [
    "i = 8"
   ]
  },
  {
   "cell_type": "code",
   "execution_count": 3,
   "id": "9da8aef9-1029-417c-8885-4b2bc3a0739c",
   "metadata": {},
   "outputs": [
    {
     "name": "stdout",
     "output_type": "stream",
     "text": [
      "False\n"
     ]
    }
   ],
   "source": [
    "print(i==5)"
   ]
  },
  {
   "cell_type": "code",
   "execution_count": 4,
   "id": "f866f8d2-e1a9-4dee-b7e8-c9c3c03f6644",
   "metadata": {},
   "outputs": [],
   "source": [
    "i = 8"
   ]
  },
  {
   "cell_type": "code",
   "execution_count": 5,
   "id": "c7e19111-cbc7-4dda-b24e-238cfe030af1",
   "metadata": {},
   "outputs": [
    {
     "name": "stdout",
     "output_type": "stream",
     "text": [
      "True\n"
     ]
    }
   ],
   "source": [
    "print(i==8) #Equal to: True if both operand "
   ]
  },
  {
   "cell_type": "code",
   "execution_count": 6,
   "id": "9ecb7863-36c4-4e42-84bb-034afd4e0fa4",
   "metadata": {},
   "outputs": [],
   "source": [
    "i = 8"
   ]
  },
  {
   "cell_type": "code",
   "execution_count": 7,
   "id": "ef247d3b-8976-46a8-b6d6-bc073e1534ac",
   "metadata": {},
   "outputs": [
    {
     "name": "stdout",
     "output_type": "stream",
     "text": [
      "True\n"
     ]
    }
   ],
   "source": [
    "print(i != 5) # (Not equal)  to 5"
   ]
  },
  {
   "cell_type": "code",
   "execution_count": 8,
   "id": "0c33b6c2-bf73-4c45-ad6b-08f96697d706",
   "metadata": {},
   "outputs": [
    {
     "name": "stdout",
     "output_type": "stream",
     "text": [
      "False\n"
     ]
    }
   ],
   "source": [
    "print(i <= 5)"
   ]
  },
  {
   "cell_type": "code",
   "execution_count": 9,
   "id": "a726ec4a-5a17-4099-9995-0468cf401255",
   "metadata": {},
   "outputs": [
    {
     "name": "stdout",
     "output_type": "stream",
     "text": [
      "True\n"
     ]
    }
   ],
   "source": [
    "print(i >= 5)"
   ]
  },
  {
   "cell_type": "markdown",
   "id": "f6f4f12a-65be-4702-8dea-f3400fe5b940",
   "metadata": {},
   "source": [
    "3.Logical Operators"
   ]
  },
  {
   "cell_type": "code",
   "execution_count": 12,
   "id": "92fd7e30-5cb3-4253-bd01-0bf96a3ded32",
   "metadata": {},
   "outputs": [],
   "source": [
    "a = True\n",
    "b = False"
   ]
  },
  {
   "cell_type": "code",
   "execution_count": 13,
   "id": "013ba587-ff8e-4b29-96af-696d62b63ee3",
   "metadata": {},
   "outputs": [
    {
     "name": "stdout",
     "output_type": "stream",
     "text": [
      "False\n"
     ]
    }
   ],
   "source": [
    "print(a and b)"
   ]
  },
  {
   "cell_type": "code",
   "execution_count": 14,
   "id": "f53beaae-d440-4f37-9cff-1481290d89e3",
   "metadata": {},
   "outputs": [
    {
     "name": "stdout",
     "output_type": "stream",
     "text": [
      "True\n"
     ]
    }
   ],
   "source": [
    "print(a and a)"
   ]
  },
  {
   "cell_type": "code",
   "execution_count": 15,
   "id": "f276f0c7-59ca-4bc0-a0ce-a8e9f432d3ea",
   "metadata": {},
   "outputs": [
    {
     "name": "stdout",
     "output_type": "stream",
     "text": [
      "True\n"
     ]
    }
   ],
   "source": [
    "print(a or b) # this operators fing True oparetors he is fing true value (a or b)."
   ]
  },
  {
   "cell_type": "markdown",
   "id": "3875439d-c6ab-4429-892b-1c1526cb8e86",
   "metadata": {},
   "source": [
    "4.Identity Operators"
   ]
  },
  {
   "cell_type": "code",
   "execution_count": 1,
   "id": "65421594-ade7-4d1c-934c-2a5cf7a3f046",
   "metadata": {},
   "outputs": [],
   "source": [
    "s =10\n",
    "p =20"
   ]
  },
  {
   "cell_type": "code",
   "execution_count": 2,
   "id": "47937f1c-b7fc-4b4a-b4ea-279a9aed6f65",
   "metadata": {},
   "outputs": [
    {
     "name": "stdout",
     "output_type": "stream",
     "text": [
      "False\n"
     ]
    }
   ],
   "source": [
    "print(s is p) # this function tell me \"s\"  not same value \"P\""
   ]
  },
  {
   "cell_type": "code",
   "execution_count": 3,
   "id": "42892327-f692-48ec-b873-48aed3561da9",
   "metadata": {},
   "outputs": [
    {
     "name": "stdout",
     "output_type": "stream",
     "text": [
      "True\n"
     ]
    }
   ],
   "source": [
    "print(s is s) # this function tell me \"s\" is same value \"s\""
   ]
  },
  {
   "cell_type": "code",
   "execution_count": 4,
   "id": "d7b1aeea-7d2b-427a-a03c-6d0701d66c6c",
   "metadata": {},
   "outputs": [
    {
     "name": "stdout",
     "output_type": "stream",
     "text": [
      "False\n"
     ]
    }
   ],
   "source": [
    "print(s is not s) # "
   ]
  },
  {
   "cell_type": "code",
   "execution_count": 8,
   "id": "0f7ee96d-c97a-44dc-b119-a53b4ebf22ae",
   "metadata": {},
   "outputs": [
    {
     "name": "stdout",
     "output_type": "stream",
     "text": [
      "True\n"
     ]
    }
   ],
   "source": [
    "print(s is not p)"
   ]
  },
  {
   "cell_type": "markdown",
   "id": "5f36bd81-12ef-4345-9b85-3645bf8a5f7f",
   "metadata": {},
   "source": [
    "5.Membership Operators"
   ]
  },
  {
   "cell_type": "code",
   "execution_count": 10,
   "id": "4635028a-fa71-44dd-8585-4d1c1aae09be",
   "metadata": {},
   "outputs": [
    {
     "name": "stdout",
     "output_type": "stream",
     "text": [
      "False\n"
     ]
    }
   ],
   "source": [
    "lists =[14,2,45,1,2,12,54]\n",
    "print(32 in lists)"
   ]
  },
  {
   "cell_type": "code",
   "execution_count": 11,
   "id": "c2bbe709-c6bb-4059-853f-fb9e7f589a29",
   "metadata": {},
   "outputs": [
    {
     "name": "stdout",
     "output_type": "stream",
     "text": [
      "True\n"
     ]
    }
   ],
   "source": [
    "lists =[14,2,45,1,2,12,54]\n",
    "print(54 in lists)"
   ]
  },
  {
   "cell_type": "code",
   "execution_count": 12,
   "id": "d8c2f0d4-d242-4eae-b46b-1ef7d28d88b0",
   "metadata": {},
   "outputs": [
    {
     "name": "stdout",
     "output_type": "stream",
     "text": [
      "True\n"
     ]
    }
   ],
   "source": [
    "lists =[14,2,45,1,2,12,54]\n",
    "print(543 not in lists) "
   ]
  },
  {
   "cell_type": "markdown",
   "id": "7daf943d-329e-4f32-a87d-b6854aa23890",
   "metadata": {},
   "source": [
    "6.Bitwise Operators"
   ]
  },
  {
   "cell_type": "code",
   "execution_count": 14,
   "id": "3d0d35e8-f1d7-4b71-8d7c-5e3d0a552e21",
   "metadata": {},
   "outputs": [
    {
     "name": "stdout",
     "output_type": "stream",
     "text": [
      "0\n"
     ]
    }
   ],
   "source": [
    "#Bainnry number\n",
    "#0-00\n",
    "#1-01\n",
    "#2-10\n",
    "#3-11\n",
    "print(0&1)\n"
   ]
  },
  {
   "cell_type": "code",
   "execution_count": 15,
   "id": "dcb9852e-4003-4c19-8d84-4b6281e1ff73",
   "metadata": {},
   "outputs": [
    {
     "name": "stdout",
     "output_type": "stream",
     "text": [
      "1\n"
     ]
    }
   ],
   "source": [
    "#0-00\n",
    "#1-01\n",
    "#2-10\n",
    "#3-11\n",
    "print(0|1)"
   ]
  },
  {
   "cell_type": "code",
   "execution_count": 17,
   "id": "64223c2b-c414-4550-a9e1-908b376ba2ff",
   "metadata": {},
   "outputs": [
    {
     "name": "stdout",
     "output_type": "stream",
     "text": [
      "3\n"
     ]
    }
   ],
   "source": [
    "#0-00\n",
    "#1-01\n",
    "#2-10\n",
    "#3-11\n",
    "print(0|3)"
   ]
  },
  {
   "cell_type": "code",
   "execution_count": null,
   "id": "1250d0c9-3dbe-40f3-969b-dbbb49c181b8",
   "metadata": {},
   "outputs": [],
   "source": []
  }
 ],
 "metadata": {
  "kernelspec": {
   "display_name": "Python 3 (ipykernel)",
   "language": "python",
   "name": "python3"
  },
  "language_info": {
   "codemirror_mode": {
    "name": "ipython",
    "version": 3
   },
   "file_extension": ".py",
   "mimetype": "text/x-python",
   "name": "python",
   "nbconvert_exporter": "python",
   "pygments_lexer": "ipython3",
   "version": "3.10.8"
  }
 },
 "nbformat": 4,
 "nbformat_minor": 5
}
