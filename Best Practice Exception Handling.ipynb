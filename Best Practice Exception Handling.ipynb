{
 "cells": [
  {
   "cell_type": "code",
   "execution_count": 1,
   "id": "db80721f-a67e-43de-8642-73425267d3bb",
   "metadata": {},
   "outputs": [
    {
     "name": "stdout",
     "output_type": "stream",
     "text": [
      "division by zero\n"
     ]
    }
   ],
   "source": [
    "# user always a specific exception\n",
    "\n",
    "try :\n",
    "    10/0\n",
    "except Exception as e : # allwasy not using this function this function super fumction not perfect method \n",
    "    print (e)"
   ]
  },
  {
   "cell_type": "code",
   "execution_count": 2,
   "id": "0a8a4f02-6761-44ae-a089-dfc660bfb3e7",
   "metadata": {},
   "outputs": [
    {
     "name": "stdout",
     "output_type": "stream",
     "text": [
      "division by zero\n"
     ]
    }
   ],
   "source": [
    "try :\n",
    "    10/0\n",
    "except ZeroDivisionError as e : # allwasy  using this function  perfect method \n",
    "    print (e)"
   ]
  },
  {
   "cell_type": "code",
   "execution_count": 3,
   "id": "5d309957-e74e-421f-b325-018b95674765",
   "metadata": {},
   "outputs": [
    {
     "name": "stdout",
     "output_type": "stream",
     "text": [
      "i am try to handle a zeroDivisionError  division by zero\n"
     ]
    }
   ],
   "source": [
    "# print always a proper massege \n",
    "try :\n",
    "    10/0\n",
    "except ZeroDivisionError as e :  \n",
    "    print (\"i am try to handle a zeroDivisionError \",e)"
   ]
  },
  {
   "cell_type": "code",
   "execution_count": 6,
   "id": "77b88520-9048-4f30-9cca-fec730c41f64",
   "metadata": {},
   "outputs": [],
   "source": [
    "# always try to log your error\n",
    "import logging\n",
    "logging.basicConfig(filename =\"error.log\",level =logging.ERROR)\n",
    "try :\n",
    "    10/0\n",
    "except ZeroDivisionError as e :  \n",
    "    logging.error (\"i am try to handle a zeroDivisionError{} \".format(e) )"
   ]
  },
  {
   "cell_type": "code",
   "execution_count": 8,
   "id": "100ec06c-8fa6-4a17-bab7-01bd660c843a",
   "metadata": {},
   "outputs": [],
   "source": [
    "# always avoid to write a multiple eception hendliing\n",
    "import logging\n",
    "logging.basicConfig(filename =\"error.log\",level =logging.ERROR)\n",
    "try :\n",
    "    10/0\n",
    "except FileNotFoundError as e :\n",
    "    logging.error(\"i am handling file not found Error {} \".format(e) )\n",
    "except AttributeError as e :\n",
    "    logging.error(\"i am handling attribute Error {} \".format(e) )    \n",
    "except ZeroDivisionError as e :  \n",
    "    logging.error (\"i am try to handle a zeroDivisionError{} \".format(e) )\n",
    "        "
   ]
  },
  {
   "cell_type": "code",
   "execution_count": 13,
   "id": "34d170d6-8c19-4254-9194-923b8a1b20b2",
   "metadata": {},
   "outputs": [],
   "source": [
    "# Document all the error \n",
    "# Cleanup all the resources\n",
    "\n",
    "import logging\n",
    "\n",
    "try:\n",
    "    with open(\"test.txt\", \"w\") as f:\n",
    "        f.write(\"this is my data to file\")\n",
    "except FileNotFoundError as e:\n",
    "    logging.error(\"I am handling file not found error: {}\".format(e))\n",
    "finally:\n",
    "    if f:\n",
    "        f.close()"
   ]
  },
  {
   "cell_type": "code",
   "execution_count": null,
   "id": "313f4652-4d4f-4fa7-afb6-a95d688071bf",
   "metadata": {},
   "outputs": [],
   "source": []
  }
 ],
 "metadata": {
  "kernelspec": {
   "display_name": "Python 3 (ipykernel)",
   "language": "python",
   "name": "python3"
  },
  "language_info": {
   "codemirror_mode": {
    "name": "ipython",
    "version": 3
   },
   "file_extension": ".py",
   "mimetype": "text/x-python",
   "name": "python",
   "nbconvert_exporter": "python",
   "pygments_lexer": "ipython3",
   "version": "3.10.8"
  }
 },
 "nbformat": 4,
 "nbformat_minor": 5
}
