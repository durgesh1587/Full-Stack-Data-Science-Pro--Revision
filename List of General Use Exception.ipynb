{
 "cells": [
  {
   "cell_type": "code",
   "execution_count": 2,
   "id": "888e0e4c-107c-4f8c-a8c6-de21b9a2523b",
   "metadata": {},
   "outputs": [
    {
     "name": "stdout",
     "output_type": "stream",
     "text": [
      "division by zero\n"
     ]
    }
   ],
   "source": [
    "\"\"\"The code you provided attempts to perform division by zero and catches the ZeroDivisionError exception. However, \n",
    "there is a minor typo in the exception name. The correct name of the exception is ZeroDivisionError (with a capital \"D\" and \"E\").\"\"\"\n",
    "try:\n",
    "    a = 10 / 0\n",
    "except ZeroDivisionError as e:\n",
    "    print(e)"
   ]
  },
  {
   "cell_type": "code",
   "execution_count": 3,
   "id": "5fe1cb7f-0d77-44ce-8a6c-913a34796d30",
   "metadata": {},
   "outputs": [
    {
     "name": "stdout",
     "output_type": "stream",
     "text": [
      "invalid literal for int() with base 10: 'durgesh'\n"
     ]
    }
   ],
   "source": [
    "\"\"\"The code you provided attempts to convert the string \"durgesh\" to an integer using the int() function.\n",
    "Since the string cannot be parsed as an integer, it will raise a ValueError exception.\n",
    "Additionally, there is a possibility of a TypeError if the argument passed to int() is not of string type.\"\"\"\n",
    "try :\n",
    "    int (\"durgesh\")\n",
    "except (ValueError ,TypeError) as e :\n",
    "    print(e)"
   ]
  },
  {
   "cell_type": "code",
   "execution_count": 4,
   "id": "916860bc-f6cd-4f76-b9c4-009a4c704f38",
   "metadata": {},
   "outputs": [
    {
     "name": "stdout",
     "output_type": "stream",
     "text": [
      "this will catch Error\n"
     ]
    }
   ],
   "source": [
    "\"\"\"The code you provided attempts to convert the string \"durgesh\" to an integer using the int() function.\n",
    "Since the string cannot be parsed as an integer,it will raise a ValueError exception. However, your except block does not specify the type of exception to catch.\"\"\"\n",
    "try :\n",
    "    int(\"durgesh\")\n",
    "except:\n",
    "    print(\"this will catch Error\")"
   ]
  },
  {
   "cell_type": "code",
   "execution_count": 6,
   "id": "eb3e97d1-ad40-47ac-a344-cdd65717d2df",
   "metadata": {},
   "outputs": [
    {
     "name": "stdout",
     "output_type": "stream",
     "text": [
      "No module named 'durgesh'\n"
     ]
    }
   ],
   "source": [
    "try:\n",
    "    import durgesh\n",
    "except ImportError as e:\n",
    "    print(e)"
   ]
  },
  {
   "cell_type": "code",
   "execution_count": 9,
   "id": "c47c827a-3bc2-419b-a695-a07f08a6a41a",
   "metadata": {},
   "outputs": [
    {
     "name": "stdout",
     "output_type": "stream",
     "text": [
      "'key2'\n"
     ]
    }
   ],
   "source": [
    "try :\n",
    "    d ={\"key\" :\"durgesh\",1 :[2,3,45,5]}\n",
    "    print(d[\"key2\"])\n",
    "except KeyError as e :\n",
    "    print(e)"
   ]
  },
  {
   "cell_type": "code",
   "execution_count": 11,
   "id": "4cad44ec-effa-4638-8cb1-d3fb3237a22b",
   "metadata": {},
   "outputs": [
    {
     "name": "stdout",
     "output_type": "stream",
     "text": [
      "'str' object has no attribute 'test'\n"
     ]
    }
   ],
   "source": [
    "try :\n",
    "    \"durgesh\".test()\n",
    "except AttributeError as e :\n",
    "    print(e)"
   ]
  },
  {
   "cell_type": "code",
   "execution_count": 16,
   "id": "e760629e-a028-42e9-9274-c02a048a1c25",
   "metadata": {},
   "outputs": [
    {
     "name": "stdout",
     "output_type": "stream",
     "text": [
      "9\n"
     ]
    }
   ],
   "source": [
    "try :\n",
    "    l =[2,3,4,5,8,7,9]\n",
    "    print(l[6])\n",
    "except IndexError as e:\n",
    "    print(e)"
   ]
  },
  {
   "cell_type": "code",
   "execution_count": 18,
   "id": "60b9698c-f121-44c7-b373-19c6f850cc78",
   "metadata": {},
   "outputs": [
    {
     "name": "stdout",
     "output_type": "stream",
     "text": [
      "list index out of range\n"
     ]
    }
   ],
   "source": [
    "try:\n",
    "    l = [2, 3, 4, 5, 8, 7, 9]\n",
    "    print(l[10])\n",
    "except IndexError as e:\n",
    "    print(e)\n"
   ]
  },
  {
   "cell_type": "code",
   "execution_count": 20,
   "id": "d0587d2a-a415-4663-a967-bca6f543e0d4",
   "metadata": {},
   "outputs": [
    {
     "name": "stdout",
     "output_type": "stream",
     "text": [
      "unsupported operand type(s) for +: 'int' and 'str'\n"
     ]
    }
   ],
   "source": [
    "try :\n",
    "    123+\"durgesh\"\n",
    "except TypeError as e :\n",
    "    print(e)"
   ]
  },
  {
   "cell_type": "code",
   "execution_count": 22,
   "id": "7c3437fa-93d6-4a7d-8273-c626c00a2d9c",
   "metadata": {},
   "outputs": [
    {
     "name": "stdout",
     "output_type": "stream",
     "text": [
      "[Errno 2] No such file or directory: 'test.txt'\n"
     ]
    }
   ],
   "source": [
    "try :\n",
    "    with open(\"test.txt\",\"r\") as f :\n",
    "        f.read()\n",
    "except FileNotFoundError as e :\n",
    "    print(e)"
   ]
  },
  {
   "cell_type": "code",
   "execution_count": 23,
   "id": "09f7557f-fe07-40ea-9d5e-1af64adbe1f6",
   "metadata": {},
   "outputs": [
    {
     "data": {
      "text/plain": [
       "['__cause__',\n",
       " '__class__',\n",
       " '__context__',\n",
       " '__delattr__',\n",
       " '__dict__',\n",
       " '__dir__',\n",
       " '__doc__',\n",
       " '__eq__',\n",
       " '__format__',\n",
       " '__ge__',\n",
       " '__getattribute__',\n",
       " '__gt__',\n",
       " '__hash__',\n",
       " '__init__',\n",
       " '__init_subclass__',\n",
       " '__le__',\n",
       " '__lt__',\n",
       " '__ne__',\n",
       " '__new__',\n",
       " '__reduce__',\n",
       " '__reduce_ex__',\n",
       " '__repr__',\n",
       " '__setattr__',\n",
       " '__setstate__',\n",
       " '__sizeof__',\n",
       " '__str__',\n",
       " '__subclasshook__',\n",
       " '__suppress_context__',\n",
       " '__traceback__',\n",
       " 'args',\n",
       " 'with_traceback']"
      ]
     },
     "execution_count": 23,
     "metadata": {},
     "output_type": "execute_result"
    }
   ],
   "source": [
    "dir(Exception)"
   ]
  },
  {
   "cell_type": "code",
   "execution_count": 28,
   "id": "f21f8e2c-e693-45b1-8190-1b29d49dfc12",
   "metadata": {},
   "outputs": [
    {
     "ename": "IndentationError",
     "evalue": "expected an indented block after function definition on line 1 (77678480.py, line 2)",
     "output_type": "error",
     "traceback": [
      "\u001b[0;36m  Cell \u001b[0;32mIn[28], line 2\u001b[0;36m\u001b[0m\n\u001b[0;31m    try :\u001b[0m\n\u001b[0m    ^\u001b[0m\n\u001b[0;31mIndentationError\u001b[0m\u001b[0;31m:\u001b[0m expected an indented block after function definition on line 1\n"
     ]
    }
   ],
   "source": [
    "def test(file):\n",
    "try :\n",
    "    with open(\"test.txt\",\"r\") as f :\n",
    "        test = f.read()\n",
    "except Exception as e: # not wright super function top side ....\n",
    "    print(e)\n",
    "except FileNotFoundError as e :\n",
    "    print(\"test\",e)"
   ]
  },
  {
   "cell_type": "code",
   "execution_count": null,
   "id": "0dd37fa8-533c-442e-8013-73534a904f08",
   "metadata": {},
   "outputs": [],
   "source": []
  },
  {
   "cell_type": "code",
   "execution_count": 29,
   "id": "4701ab6f-9889-4939-b752-db9f2f64e3d7",
   "metadata": {},
   "outputs": [],
   "source": [
    "def test(file):\n",
    "    try:\n",
    "        with open(\"test.txt\", \"r\") as f:\n",
    "            test = f.read()\n",
    "    except FileNotFoundError as e:\n",
    "        print(\"test\", e)\n",
    "    except Exception as e:\n",
    "        print(e)"
   ]
  },
  {
   "cell_type": "code",
   "execution_count": 33,
   "id": "8ab04d6b-a1ed-41fb-bc9d-1e7208f9b8c6",
   "metadata": {},
   "outputs": [],
   "source": [
    "import logging\n",
    "\n",
    "def test1(file):\n",
    "    try:\n",
    "        with open(\"test2.txt\", \"w\") as f:\n",
    "            tes2 = f.write(\"Some text to write\")\n",
    "    except FileNotFoundError as e:\n",
    "        logging.info(e)\n",
    "    except Exception as e:\n",
    "        logging.info(e)"
   ]
  },
  {
   "cell_type": "code",
   "execution_count": null,
   "id": "a4c88925-4680-46ff-a5c3-242a697650db",
   "metadata": {},
   "outputs": [],
   "source": []
  }
 ],
 "metadata": {
  "kernelspec": {
   "display_name": "Python 3 (ipykernel)",
   "language": "python",
   "name": "python3"
  },
  "language_info": {
   "codemirror_mode": {
    "name": "ipython",
    "version": 3
   },
   "file_extension": ".py",
   "mimetype": "text/x-python",
   "name": "python",
   "nbconvert_exporter": "python",
   "pygments_lexer": "ipython3",
   "version": "3.10.8"
  }
 },
 "nbformat": 4,
 "nbformat_minor": 5
}
