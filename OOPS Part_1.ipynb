{
 "cells": [
  {
   "cell_type": "code",
   "execution_count": 1,
   "id": "7de9000d-a24c-4225-893d-bbee74b504a8",
   "metadata": {},
   "outputs": [],
   "source": [
    "a =1"
   ]
  },
  {
   "cell_type": "code",
   "execution_count": 2,
   "id": "634215b2-8a91-4c52-9215-2759595dca2f",
   "metadata": {},
   "outputs": [
    {
     "name": "stdout",
     "output_type": "stream",
     "text": [
      "<class 'int'>\n"
     ]
    }
   ],
   "source": [
    "print(type(a))"
   ]
  },
  {
   "cell_type": "code",
   "execution_count": 3,
   "id": "d4f61aa9-ee3c-40f4-a8f8-2952cb101fea",
   "metadata": {},
   "outputs": [
    {
     "name": "stdout",
     "output_type": "stream",
     "text": [
      "<class 'str'>\n"
     ]
    }
   ],
   "source": [
    "print(type(\"pwskills\"))"
   ]
  },
  {
   "cell_type": "code",
   "execution_count": 7,
   "id": "351c31b0-15e0-41ea-8b1f-489d87af33f4",
   "metadata": {},
   "outputs": [],
   "source": [
    "class test :\n",
    "    pass"
   ]
  },
  {
   "cell_type": "code",
   "execution_count": 8,
   "id": "fce06508-07e9-45db-8be6-9ccfe47f9689",
   "metadata": {},
   "outputs": [],
   "source": [
    "a = test()"
   ]
  },
  {
   "cell_type": "code",
   "execution_count": 9,
   "id": "c52eceb3-8fea-4c27-907a-9a4a8c866a4a",
   "metadata": {},
   "outputs": [
    {
     "data": {
      "text/plain": [
       "__main__.test"
      ]
     },
     "execution_count": 9,
     "metadata": {},
     "output_type": "execute_result"
    }
   ],
   "source": [
    "type(a)"
   ]
  },
  {
   "cell_type": "code",
   "execution_count": 10,
   "id": "2879cd8b-e6b3-4514-96b2-a7a31c4f31a9",
   "metadata": {},
   "outputs": [
    {
     "name": "stdout",
     "output_type": "stream",
     "text": [
      "<class '__main__.test'>\n"
     ]
    }
   ],
   "source": [
    "print(type(a))"
   ]
  },
  {
   "cell_type": "code",
   "execution_count": 35,
   "id": "f27bddd1-b04d-402c-a89c-4cc4ab0639bd",
   "metadata": {},
   "outputs": [],
   "source": [
    "class pwskills :\n",
    "    \n",
    "    def welcome_msg(self):\n",
    "        print(\"welcome to pwskills\")"
   ]
  },
  {
   "cell_type": "code",
   "execution_count": 39,
   "id": "7899c589-64bb-4e5d-b33d-50ad2f3c8045",
   "metadata": {},
   "outputs": [],
   "source": [
    "rohan= pwskills()"
   ]
  },
  {
   "cell_type": "code",
   "execution_count": 41,
   "id": "31c52484-750b-44df-9d97-9dee9345fe28",
   "metadata": {},
   "outputs": [
    {
     "name": "stdout",
     "output_type": "stream",
     "text": [
      "<class '__main__.pwskills'>\n"
     ]
    }
   ],
   "source": [
    "print(type(rohan))"
   ]
  },
  {
   "cell_type": "code",
   "execution_count": 42,
   "id": "efd4b712-8715-49af-8736-c1e9eff8be7a",
   "metadata": {},
   "outputs": [
    {
     "name": "stdout",
     "output_type": "stream",
     "text": [
      "welcome to pwskills\n"
     ]
    }
   ],
   "source": [
    "rohan.welcome_msg()"
   ]
  },
  {
   "cell_type": "code",
   "execution_count": 43,
   "id": "23372bd7-57f1-41da-ad7e-e0c3cac02fda",
   "metadata": {},
   "outputs": [],
   "source": [
    "durgesh =pwskills()"
   ]
  },
  {
   "cell_type": "code",
   "execution_count": 44,
   "id": "9c02b0c5-a4ef-400a-9726-84c81f2f2f68",
   "metadata": {},
   "outputs": [
    {
     "name": "stdout",
     "output_type": "stream",
     "text": [
      "welcome to pwskills\n"
     ]
    }
   ],
   "source": [
    "durgesh.welcome_msg()"
   ]
  },
  {
   "cell_type": "code",
   "execution_count": 1,
   "id": "2cb7e74f-3a36-401b-bfd7-2d1dab01824b",
   "metadata": {},
   "outputs": [],
   "source": [
    "class pwskills1 :\n",
    "    \n",
    "    def __init__ (self,phone_num,studant_id,email_id):\n",
    "        self.phone_num =phone_num\n",
    "        self.studant_id = studant_id\n",
    "        self.email_id =email_id\n",
    "        \n",
    "     \n",
    "    def return_studant_details(self):\n",
    "        return self.phone_num,self.studant_id,self.email_id\n",
    "    "
   ]
  },
  {
   "cell_type": "code",
   "execution_count": 3,
   "id": "f117236d-87e2-49b5-9052-4dfd7708c691",
   "metadata": {},
   "outputs": [],
   "source": [
    "rohan = pwskills1(9953477818,786,\"durgesh@gmail.com\")"
   ]
  },
  {
   "cell_type": "code",
   "execution_count": 4,
   "id": "873e14e3-63ee-4399-8e8c-30c00fdcca7e",
   "metadata": {},
   "outputs": [
    {
     "data": {
      "text/plain": [
       "(9953477818, 786, 'durgesh@gmail.com')"
      ]
     },
     "execution_count": 4,
     "metadata": {},
     "output_type": "execute_result"
    }
   ],
   "source": [
    "rohan.return_studant_details()"
   ]
  },
  {
   "cell_type": "code",
   "execution_count": 5,
   "id": "ff20e31f-f597-4d5d-a95f-f23a6f393d28",
   "metadata": {},
   "outputs": [],
   "source": [
    "durgesh = pwskills1(9958982787,102,\"sonu@gmail.com\")"
   ]
  },
  {
   "cell_type": "code",
   "execution_count": 6,
   "id": "213e65b1-9cc0-4248-ba45-b0f4c0799f47",
   "metadata": {},
   "outputs": [
    {
     "data": {
      "text/plain": [
       "(9958982787, 102, 'sonu@gmail.com')"
      ]
     },
     "execution_count": 6,
     "metadata": {},
     "output_type": "execute_result"
    }
   ],
   "source": [
    "durgesh.return_studant_details()"
   ]
  },
  {
   "cell_type": "code",
   "execution_count": 8,
   "id": "59119d7b-772a-406f-889a-7f6ea699939d",
   "metadata": {},
   "outputs": [
    {
     "data": {
      "text/plain": [
       "9958982787"
      ]
     },
     "execution_count": 8,
     "metadata": {},
     "output_type": "execute_result"
    }
   ],
   "source": [
    "durgesh.phone_num"
   ]
  },
  {
   "cell_type": "code",
   "execution_count": 9,
   "id": "e325ae04-2eb3-4590-9394-5ee2bcd78e84",
   "metadata": {},
   "outputs": [
    {
     "data": {
      "text/plain": [
       "786"
      ]
     },
     "execution_count": 9,
     "metadata": {},
     "output_type": "execute_result"
    }
   ],
   "source": [
    "rohan.studant_id"
   ]
  },
  {
   "cell_type": "code",
   "execution_count": 28,
   "id": "21aeb3a8-c322-4365-ac84-86beb3e3c711",
   "metadata": {},
   "outputs": [],
   "source": [
    "class pwskills2 :\n",
    "    \n",
    "    def __init__ (monu,phone_num,studant_id,email_id):\n",
    "        monu.phone_num1 =phone_num\n",
    "        monu.studant_id1 = studant_id\n",
    "        monu.email_id1 =email_id\n",
    "        \n",
    "     \n",
    "    def return_studant_details(monu):\n",
    "        return monu.phone_num1,monu.studant_id1,monu.email_id1\n",
    "    "
   ]
  },
  {
   "cell_type": "code",
   "execution_count": 29,
   "id": "51baf814-ce78-49ec-97b8-c3ad766df1ae",
   "metadata": {},
   "outputs": [],
   "source": [
    "durgesh = pwskills2(999999999,220,\"inldin@gmail.com\")"
   ]
  },
  {
   "cell_type": "code",
   "execution_count": 30,
   "id": "842d2e89-76ee-4d2e-a09d-2e6bd0c9b756",
   "metadata": {},
   "outputs": [
    {
     "data": {
      "text/plain": [
       "999999999"
      ]
     },
     "execution_count": 30,
     "metadata": {},
     "output_type": "execute_result"
    }
   ],
   "source": [
    "durgesh.phone_num1"
   ]
  },
  {
   "cell_type": "code",
   "execution_count": 31,
   "id": "d6ac64b5-c015-4020-b1a8-2d965db34d10",
   "metadata": {},
   "outputs": [
    {
     "data": {
      "text/plain": [
       "220"
      ]
     },
     "execution_count": 31,
     "metadata": {},
     "output_type": "execute_result"
    }
   ],
   "source": [
    "durgesh.studant_id1"
   ]
  },
  {
   "cell_type": "code",
   "execution_count": 32,
   "id": "ff116884-d25b-44a3-bc87-80629589c2df",
   "metadata": {},
   "outputs": [
    {
     "data": {
      "text/plain": [
       "(999999999, 220, 'inldin@gmail.com')"
      ]
     },
     "execution_count": 32,
     "metadata": {},
     "output_type": "execute_result"
    }
   ],
   "source": [
    "durgesh.return_studant_details()"
   ]
  },
  {
   "cell_type": "markdown",
   "id": "c086efbc-1f6b-4fc9-b08e-fb8aeaadee2e",
   "metadata": {},
   "source": [
    "Polymorphism ...................................................................Topics..............."
   ]
  },
  {
   "cell_type": "code",
   "execution_count": 37,
   "id": "2bded1a7-95a8-410a-af2e-619a524f8ca4",
   "metadata": {},
   "outputs": [],
   "source": [
    "class data_science :\n",
    "    \n",
    "    def syllabus (self):\n",
    "        print (\" this is my syllabus for data science master \")"
   ]
  },
  {
   "cell_type": "code",
   "execution_count": 38,
   "id": "d186767e-0cab-4152-82a0-29cc62ef78bd",
   "metadata": {},
   "outputs": [],
   "source": [
    "class web_dev :\n",
    "    \n",
    "    def syllabus (self):\n",
    "        print(\"this is my class for web dev\")"
   ]
  },
  {
   "cell_type": "code",
   "execution_count": 39,
   "id": "ffb53523-9c75-4fcb-93e1-e083d7ac6e87",
   "metadata": {},
   "outputs": [],
   "source": [
    "def class_parcer(class_obj):\n",
    "    for i in class_obj :\n",
    "        i.syllabus()"
   ]
  },
  {
   "cell_type": "code",
   "execution_count": 40,
   "id": "e74eae13-11c2-43b4-96c5-e81eaeddd0b0",
   "metadata": {},
   "outputs": [],
   "source": [
    "data_science = data_science()"
   ]
  },
  {
   "cell_type": "code",
   "execution_count": 41,
   "id": "b2957557-e9ac-44cb-9c80-b971d057cd25",
   "metadata": {},
   "outputs": [],
   "source": [
    "web_dev=web_dev()"
   ]
  },
  {
   "cell_type": "code",
   "execution_count": 42,
   "id": "29956118-c77e-45ac-9d3d-606b589a19da",
   "metadata": {},
   "outputs": [],
   "source": [
    "class_obj =[data_science,web_dev]"
   ]
  },
  {
   "cell_type": "code",
   "execution_count": 43,
   "id": "c562dd2c-025b-4e3f-a63d-3afa0818591a",
   "metadata": {},
   "outputs": [
    {
     "name": "stdout",
     "output_type": "stream",
     "text": [
      " this is my syllabus for data science master \n",
      "this is my class for web dev\n"
     ]
    }
   ],
   "source": [
    "class_parcer(class_obj)"
   ]
  },
  {
   "cell_type": "code",
   "execution_count": null,
   "id": "f090a362-c736-49c2-aca5-56e00bc44720",
   "metadata": {},
   "outputs": [],
   "source": []
  }
 ],
 "metadata": {
  "kernelspec": {
   "display_name": "Python 3 (ipykernel)",
   "language": "python",
   "name": "python3"
  },
  "language_info": {
   "codemirror_mode": {
    "name": "ipython",
    "version": 3
   },
   "file_extension": ".py",
   "mimetype": "text/x-python",
   "name": "python",
   "nbconvert_exporter": "python",
   "pygments_lexer": "ipython3",
   "version": "3.10.8"
  }
 },
 "nbformat": 4,
 "nbformat_minor": 5
}
