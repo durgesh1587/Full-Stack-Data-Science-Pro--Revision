{
 "cells": [
  {
   "cell_type": "code",
   "execution_count": 1,
   "id": "5eb1cfd9-1dc9-4b18-8d56-048ea0f47ef9",
   "metadata": {},
   "outputs": [],
   "source": [
    "import requests\n",
    "from bs4 import BeautifulSoup as bs\n",
    "from urllib.request import urlopen as uReq\n",
    "import logging"
   ]
  },
  {
   "cell_type": "code",
   "execution_count": 2,
   "id": "1c0890a0-cfd7-47ff-9dcd-5d0af19657dc",
   "metadata": {},
   "outputs": [],
   "source": [
    "flipkart_url=\"https://www.flipkart.com/search?q=\" + \"iphone14\""
   ]
  },
  {
   "cell_type": "code",
   "execution_count": 3,
   "id": "eb8dc409-d73e-44f9-b1b5-3d4ff30016e7",
   "metadata": {},
   "outputs": [
    {
     "data": {
      "text/plain": [
       "'https://www.flipkart.com/search?q=iphone14'"
      ]
     },
     "execution_count": 3,
     "metadata": {},
     "output_type": "execute_result"
    }
   ],
   "source": [
    "flipkart_url"
   ]
  },
  {
   "cell_type": "code",
   "execution_count": 4,
   "id": "c2ace3bd-f6ae-48a6-87f2-0dcfe54953e1",
   "metadata": {},
   "outputs": [],
   "source": [
    "urlclinet = uReq(flipkart_url)"
   ]
  },
  {
   "cell_type": "code",
   "execution_count": 8,
   "id": "980d77ea-a824-4ae8-aba0-0c6f9f58d223",
   "metadata": {},
   "outputs": [
    {
     "data": {
      "text/plain": [
       "<http.client.HTTPResponse at 0x7f81eec35f60>"
      ]
     },
     "execution_count": 8,
     "metadata": {},
     "output_type": "execute_result"
    }
   ],
   "source": [
    "urlclinet"
   ]
  },
  {
   "cell_type": "code",
   "execution_count": 11,
   "id": "ad315a6b-7995-411d-b25a-09915231ed0a",
   "metadata": {},
   "outputs": [],
   "source": [
    "flipkart_page = urlclinet.read()"
   ]
  },
  {
   "cell_type": "code",
   "execution_count": 12,
   "id": "cdefb28e-4767-4bac-9746-237a6ae42cea",
   "metadata": {},
   "outputs": [],
   "source": [
    "flipkart_html = bs(flipkart_page,'html.parser')"
   ]
  },
  {
   "cell_type": "code",
   "execution_count": 13,
   "id": "138f6bc6-6136-4f82-ae6a-589a0e42dde1",
   "metadata": {},
   "outputs": [
    {
     "data": {
      "text/plain": [
       "'https://www.flipkart.com/apple-iphone-14-blue-128-gb/p/itmdb77f40da6b6d?pid=MOBGHWFHSV7GUFWA&lid=LSTMOBGHWFHSV7GUFWAY05S0C&marketplace=FLIPKART&q=iphone+14&store=tyy%2F4io&srno=s_1_3&otracker=AS_QueryStore_OrganicAutoSuggest_1_6_na_na_ps&otracker1=AS_QueryStore_OrganicAutoSuggest_1_6_na_na_ps&fm=search-autosuggest&iid=8c0381f2-f668-45fc-85fe-d760336a7d5d.MOBGHWFHSV7GUFWA.SEARCH&ppt=sp&ppn=sp&ssid=ar64z45cxc0000001690217729105&qH=860f3715b8db08cd'"
      ]
     },
     "execution_count": 13,
     "metadata": {},
     "output_type": "execute_result"
    }
   ],
   "source": [
    "\"https://www.flipkart.com/\"+\"apple-iphone-14-blue-128-gb/p/itmdb77f40da6b6d?pid=MOBGHWFHSV7GUFWA&lid=LSTMOBGHWFHSV7GUFWAY05S0C&marketplace=FLIPKART&q=iphone+14&store=tyy%2F4io&srno=s_1_3&otracker=AS_QueryStore_OrganicAutoSuggest_1_6_na_na_ps&otracker1=AS_QueryStore_OrganicAutoSuggest_1_6_na_na_ps&fm=search-autosuggest&iid=8c0381f2-f668-45fc-85fe-d760336a7d5d.MOBGHWFHSV7GUFWA.SEARCH&ppt=sp&ppn=sp&ssid=ar64z45cxc0000001690217729105&qH=860f3715b8db08cd\""
   ]
  },
  {
   "cell_type": "code",
   "execution_count": 14,
   "id": "85d02430-ed23-40c1-887e-2968bcbf1396",
   "metadata": {},
   "outputs": [],
   "source": [
    "bigbox =flipkart_html.find_all(\"div\" ,{\"class\":\"_1AtVbE col-12-12\"})"
   ]
  },
  {
   "cell_type": "code",
   "execution_count": 15,
   "id": "93160b2a-b926-44d0-ac48-c1361ae05095",
   "metadata": {},
   "outputs": [
    {
     "data": {
      "text/plain": [
       "0"
      ]
     },
     "execution_count": 15,
     "metadata": {},
     "output_type": "execute_result"
    }
   ],
   "source": [
    "len(bigbox)"
   ]
  },
  {
   "cell_type": "code",
   "execution_count": 16,
   "id": "35c4e2e1-1ca3-4592-9319-fa6531845fbd",
   "metadata": {},
   "outputs": [],
   "source": [
    "del bigbox[0:3]"
   ]
  },
  {
   "cell_type": "code",
   "execution_count": 17,
   "id": "b33cc8bd-cae8-4ff8-af12-f9b554c6b5bd",
   "metadata": {},
   "outputs": [
    {
     "ename": "IndexError",
     "evalue": "list index out of range",
     "output_type": "error",
     "traceback": [
      "\u001b[0;31m---------------------------------------------------------------------------\u001b[0m",
      "\u001b[0;31mIndexError\u001b[0m                                Traceback (most recent call last)",
      "Cell \u001b[0;32mIn[17], line 1\u001b[0m\n\u001b[0;32m----> 1\u001b[0m poductlink \u001b[38;5;241m=\u001b[39m \u001b[38;5;124m\"\u001b[39m\u001b[38;5;124mhttps://www.flipkart.com\u001b[39m\u001b[38;5;124m\"\u001b[39m\u001b[38;5;241m+\u001b[39m\u001b[43mbigbox\u001b[49m\u001b[43m[\u001b[49m\u001b[38;5;241;43m3\u001b[39;49m\u001b[43m]\u001b[49m\u001b[38;5;241m.\u001b[39mdiv\u001b[38;5;241m.\u001b[39mdiv\u001b[38;5;241m.\u001b[39mdiv\u001b[38;5;241m.\u001b[39ma[\u001b[38;5;124m'\u001b[39m\u001b[38;5;124mhref\u001b[39m\u001b[38;5;124m'\u001b[39m]\n",
      "\u001b[0;31mIndexError\u001b[0m: list index out of range"
     ]
    }
   ],
   "source": [
    "poductlink = \"https://www.flipkart.com\"+bigbox[3].div.div.div.a['href']"
   ]
  },
  {
   "cell_type": "code",
   "execution_count": 18,
   "id": "522db21e-a929-437b-9dd0-60572a0fb196",
   "metadata": {},
   "outputs": [
    {
     "ename": "NameError",
     "evalue": "name 'poductlink' is not defined",
     "output_type": "error",
     "traceback": [
      "\u001b[0;31m---------------------------------------------------------------------------\u001b[0m",
      "\u001b[0;31mNameError\u001b[0m                                 Traceback (most recent call last)",
      "Cell \u001b[0;32mIn[18], line 1\u001b[0m\n\u001b[0;32m----> 1\u001b[0m product_req \u001b[38;5;241m=\u001b[39m requests\u001b[38;5;241m.\u001b[39mget(\u001b[43mpoductlink\u001b[49m)\n",
      "\u001b[0;31mNameError\u001b[0m: name 'poductlink' is not defined"
     ]
    }
   ],
   "source": [
    "product_req = requests.get(poductlink)"
   ]
  },
  {
   "cell_type": "code",
   "execution_count": null,
   "id": "a9ef1969-9130-4fbe-92d1-b04d038087e2",
   "metadata": {},
   "outputs": [],
   "source": [
    "poductlink"
   ]
  }
 ],
 "metadata": {
  "kernelspec": {
   "display_name": "Python 3 (ipykernel)",
   "language": "python",
   "name": "python3"
  },
  "language_info": {
   "codemirror_mode": {
    "name": "ipython",
    "version": 3
   },
   "file_extension": ".py",
   "mimetype": "text/x-python",
   "name": "python",
   "nbconvert_exporter": "python",
   "pygments_lexer": "ipython3",
   "version": "3.10.8"
  }
 },
 "nbformat": 4,
 "nbformat_minor": 5
}
