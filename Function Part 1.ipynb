{
 "cells": [
  {
   "cell_type": "code",
   "execution_count": 1,
   "id": "66e876c7-f7ff-42d0-bf06-e1012eb36849",
   "metadata": {},
   "outputs": [
    {
     "name": "stdout",
     "output_type": "stream",
     "text": [
      "this is my book\n"
     ]
    }
   ],
   "source": [
    "print(\"this is my book\")"
   ]
  },
  {
   "cell_type": "code",
   "execution_count": 2,
   "id": "5f19f3ce-353b-4344-bf40-e728b591057d",
   "metadata": {},
   "outputs": [],
   "source": [
    "l=[1,2,3,4,5,6]"
   ]
  },
  {
   "cell_type": "code",
   "execution_count": 3,
   "id": "f693f9aa-d8b6-471d-92a9-2fd52b11ec04",
   "metadata": {},
   "outputs": [
    {
     "data": {
      "text/plain": [
       "6"
      ]
     },
     "execution_count": 3,
     "metadata": {},
     "output_type": "execute_result"
    }
   ],
   "source": [
    "len(l)"
   ]
  },
  {
   "cell_type": "code",
   "execution_count": 4,
   "id": "11636131-52d3-45e5-b91b-8a6abad29bea",
   "metadata": {},
   "outputs": [
    {
     "data": {
      "text/plain": [
       "list"
      ]
     },
     "execution_count": 4,
     "metadata": {},
     "output_type": "execute_result"
    }
   ],
   "source": [
    "type(l)"
   ]
  },
  {
   "cell_type": "code",
   "execution_count": 5,
   "id": "a5d0353b-6289-4771-82fb-e5087c922750",
   "metadata": {},
   "outputs": [],
   "source": [
    "def test():\n",
    "    print(\"this is my frist fuction \")"
   ]
  },
  {
   "cell_type": "code",
   "execution_count": 6,
   "id": "d662cc3b-7760-457b-b600-5a433ac06d85",
   "metadata": {},
   "outputs": [
    {
     "name": "stdout",
     "output_type": "stream",
     "text": [
      "this is my frist fuction \n"
     ]
    }
   ],
   "source": [
    "test()"
   ]
  },
  {
   "cell_type": "code",
   "execution_count": 14,
   "id": "ed26f7ef-162c-4290-84ec-eaece875e363",
   "metadata": {},
   "outputs": [],
   "source": [
    "def test1() :\n",
    "    return(\"this is my first fuction class\")"
   ]
  },
  {
   "cell_type": "code",
   "execution_count": 17,
   "id": "c21ea8bb-db56-43a0-9bb1-7d2180289d79",
   "metadata": {},
   "outputs": [
    {
     "data": {
      "text/plain": [
       "'this is my first fuction classdurgesh'"
      ]
     },
     "execution_count": 17,
     "metadata": {},
     "output_type": "execute_result"
    }
   ],
   "source": [
    "test1()+(\"durgesh\")"
   ]
  },
  {
   "cell_type": "code",
   "execution_count": 18,
   "id": "7480e82f-922c-4886-9074-86e63159022a",
   "metadata": {},
   "outputs": [
    {
     "data": {
      "text/plain": [
       "'this is my first fuction class'"
      ]
     },
     "execution_count": 18,
     "metadata": {},
     "output_type": "execute_result"
    }
   ],
   "source": [
    "test1()"
   ]
  },
  {
   "cell_type": "code",
   "execution_count": 19,
   "id": "7ff13e48-5140-4b17-ad51-78d5c6c00976",
   "metadata": {},
   "outputs": [],
   "source": [
    "def test2():\n",
    "    return\"durgesh\",12,458.45,True,[1,2,3,4,5]"
   ]
  },
  {
   "cell_type": "code",
   "execution_count": 20,
   "id": "5132a226-a1c5-4005-af7c-1f91ea0a3d9f",
   "metadata": {},
   "outputs": [
    {
     "data": {
      "text/plain": [
       "('durgesh', 12, 458.45, True, [1, 2, 3, 4, 5])"
      ]
     },
     "execution_count": 20,
     "metadata": {},
     "output_type": "execute_result"
    }
   ],
   "source": [
    "test2()"
   ]
  },
  {
   "cell_type": "code",
   "execution_count": 21,
   "id": "c9c4d6d0-11e8-4cb5-af25-9222fca5abc1",
   "metadata": {},
   "outputs": [],
   "source": [
    "a,d,f,r,e =test2()"
   ]
  },
  {
   "cell_type": "code",
   "execution_count": 22,
   "id": "bf8d4432-2c67-449c-b796-341a9b13475f",
   "metadata": {},
   "outputs": [
    {
     "data": {
      "text/plain": [
       "'durgesh'"
      ]
     },
     "execution_count": 22,
     "metadata": {},
     "output_type": "execute_result"
    }
   ],
   "source": [
    "a"
   ]
  },
  {
   "cell_type": "code",
   "execution_count": 23,
   "id": "a1b7b000-942a-47d6-aa9c-3182be391897",
   "metadata": {},
   "outputs": [
    {
     "data": {
      "text/plain": [
       "12"
      ]
     },
     "execution_count": 23,
     "metadata": {},
     "output_type": "execute_result"
    }
   ],
   "source": [
    "d"
   ]
  },
  {
   "cell_type": "code",
   "execution_count": 24,
   "id": "d15988cc-a676-4a98-b18a-015b3a15a107",
   "metadata": {},
   "outputs": [
    {
     "data": {
      "text/plain": [
       "458.45"
      ]
     },
     "execution_count": 24,
     "metadata": {},
     "output_type": "execute_result"
    }
   ],
   "source": [
    "f"
   ]
  },
  {
   "cell_type": "code",
   "execution_count": 25,
   "id": "80c86a00-a572-4598-9fb3-0225eb08bd1a",
   "metadata": {},
   "outputs": [
    {
     "data": {
      "text/plain": [
       "True"
      ]
     },
     "execution_count": 25,
     "metadata": {},
     "output_type": "execute_result"
    }
   ],
   "source": [
    "r"
   ]
  },
  {
   "cell_type": "code",
   "execution_count": 26,
   "id": "8934cdac-99de-4d61-881e-65050b0d7818",
   "metadata": {},
   "outputs": [
    {
     "data": {
      "text/plain": [
       "[1, 2, 3, 4, 5]"
      ]
     },
     "execution_count": 26,
     "metadata": {},
     "output_type": "execute_result"
    }
   ],
   "source": [
    "e"
   ]
  },
  {
   "cell_type": "code",
   "execution_count": 29,
   "id": "74f4bd13-4494-4328-9609-27597c09363d",
   "metadata": {},
   "outputs": [],
   "source": [
    "def test4():\n",
    "    a=500*3\n",
    "    return a"
   ]
  },
  {
   "cell_type": "code",
   "execution_count": 30,
   "id": "0407b8f8-d30d-40bd-8187-97d56cc1311a",
   "metadata": {},
   "outputs": [
    {
     "data": {
      "text/plain": [
       "1500"
      ]
     },
     "execution_count": 30,
     "metadata": {},
     "output_type": "execute_result"
    }
   ],
   "source": [
    "test4()"
   ]
  },
  {
   "cell_type": "code",
   "execution_count": 33,
   "id": "ab05ef60-73a1-4c80-b763-c60595b3685e",
   "metadata": {},
   "outputs": [],
   "source": [
    "def test5 (a,b,c):\n",
    "    d=a+b/c\n",
    "    return d"
   ]
  },
  {
   "cell_type": "code",
   "execution_count": 34,
   "id": "74b74c6f-98e8-40ba-bd33-0b435ef864f4",
   "metadata": {},
   "outputs": [
    {
     "data": {
      "text/plain": [
       "<function __main__.test5(a, b, c)>"
      ]
     },
     "execution_count": 34,
     "metadata": {},
     "output_type": "execute_result"
    }
   ],
   "source": [
    "test5("
   ]
  },
  {
   "cell_type": "code",
   "execution_count": 35,
   "id": "ade81841-be97-45a4-8f5c-2122eec36254",
   "metadata": {},
   "outputs": [
    {
     "data": {
      "text/plain": [
       "2.75"
      ]
     },
     "execution_count": 35,
     "metadata": {},
     "output_type": "execute_result"
    }
   ],
   "source": [
    "test5(2,3,4)"
   ]
  },
  {
   "cell_type": "code",
   "execution_count": 37,
   "id": "8d4d1553-f15b-48a4-8bf2-8328ee1cfeb5",
   "metadata": {},
   "outputs": [],
   "source": [
    "def test6(a,s):\n",
    "    w =a+s\n",
    "    return w"
   ]
  },
  {
   "cell_type": "code",
   "execution_count": 45,
   "id": "3a51997a-5416-48b8-9dfa-a7bf8479c1d0",
   "metadata": {},
   "outputs": [
    {
     "data": {
      "text/plain": [
       "'durgesh kharwar'"
      ]
     },
     "execution_count": 45,
     "metadata": {},
     "output_type": "execute_result"
    }
   ],
   "source": [
    "test6( \"durgesh\" ,\" kharwar\")"
   ]
  },
  {
   "cell_type": "code",
   "execution_count": 41,
   "id": "6976d34b-9b20-447b-8395-f32ec14f5804",
   "metadata": {},
   "outputs": [
    {
     "data": {
      "text/plain": [
       "[1, 2, 3, 4, 5, 6, 89, 5, 7, 34]"
      ]
     },
     "execution_count": 41,
     "metadata": {},
     "output_type": "execute_result"
    }
   ],
   "source": [
    "test6([1,2,3,4,5,6],[89,5,7,34,] )"
   ]
  },
  {
   "cell_type": "code",
   "execution_count": 4,
   "id": "06c565d4-002b-4a29-bf9d-7e6cf0735dd4",
   "metadata": {},
   "outputs": [],
   "source": [
    "l = [1,2,3,4,[1,2,3,4,5],\"suhu\",\"monu\",True,455.52]"
   ]
  },
  {
   "cell_type": "code",
   "execution_count": 5,
   "id": "6ca6b60d-ef0b-4483-a78f-30700763185e",
   "metadata": {},
   "outputs": [
    {
     "data": {
      "text/plain": [
       "[1, 2, 3, 4, [1, 2, 3, 4, 5], 'suhu', 'monu', True, 455.52]"
      ]
     },
     "execution_count": 5,
     "metadata": {},
     "output_type": "execute_result"
    }
   ],
   "source": [
    "l"
   ]
  },
  {
   "cell_type": "code",
   "execution_count": 14,
   "id": "225eed88-2502-4266-8499-7e9ab417c5da",
   "metadata": {},
   "outputs": [],
   "source": [
    "l = []\n",
    "for i in l :\n",
    "    if type (i) == int or type (i) == float :\n",
    "        l.append(i)"
   ]
  },
  {
   "cell_type": "code",
   "execution_count": 15,
   "id": "592fc757-86d0-405e-920d-3b36c668de51",
   "metadata": {},
   "outputs": [
    {
     "data": {
      "text/plain": [
       "[]"
      ]
     },
     "execution_count": 15,
     "metadata": {},
     "output_type": "execute_result"
    }
   ],
   "source": [
    "l"
   ]
  },
  {
   "cell_type": "code",
   "execution_count": 6,
   "id": "4977fd3b-9c70-4673-80ea-6f967930b9b7",
   "metadata": {},
   "outputs": [],
   "source": [
    "def test9(l):\n",
    "    \n",
    "    for i in l :\n",
    "        if type (i) == int or type (i) == float :\n",
    "            l.append(i)\n",
    "    return l"
   ]
  },
  {
   "cell_type": "code",
   "execution_count": null,
   "id": "4647276a-4469-4691-9b0d-2f3d2241ffbb",
   "metadata": {},
   "outputs": [],
   "source": [
    "test9(l)"
   ]
  },
  {
   "cell_type": "code",
   "execution_count": null,
   "id": "d3cab139-e191-4956-a913-dae0bbaaaf73",
   "metadata": {},
   "outputs": [],
   "source": [
    "def test9(l):\n",
    "    new_list = []\n",
    "    for i in l:\n",
    "        if type(i) == int or type(i) == float:\n",
    "            new_list.append(i)\n",
    "    return new_list"
   ]
  },
  {
   "cell_type": "code",
   "execution_count": 30,
   "id": "9b526dfb-325d-4fc9-a418-658a21ff3d8a",
   "metadata": {},
   "outputs": [],
   "source": [
    "new_list =[1,2,3,4,5,\"monu\",\"sonu\",12.5,True, [7,8,9,5]]"
   ]
  },
  {
   "cell_type": "code",
   "execution_count": 40,
   "id": "094df7d5-9709-4260-a4ee-66c32f656426",
   "metadata": {},
   "outputs": [
    {
     "ename": "IndentationError",
     "evalue": "expected an indented block after 'if' statement on line 4 (437112687.py, line 5)",
     "output_type": "error",
     "traceback": [
      "\u001b[0;36m  Cell \u001b[0;32mIn[40], line 5\u001b[0;36m\u001b[0m\n\u001b[0;31m    for j in i:\u001b[0m\n\u001b[0m    ^\u001b[0m\n\u001b[0;31mIndentationError\u001b[0m\u001b[0;31m:\u001b[0m expected an indented block after 'if' statement on line 4\n"
     ]
    }
   ],
   "source": [
    "def test5(a):\n",
    "    new_list =[]\n",
    "    for i in a :\n",
    "        if type (i) == list:\n",
    "        for j in i:\n",
    "            new_list.append(j)            \n",
    "        else :\n",
    "            if type (i) ==int or type (i) == float :\n",
    "                  new_list.append(i)\n",
    "            return new_list"
   ]
  },
  {
   "cell_type": "code",
   "execution_count": 41,
   "id": "3d79f09b-90e4-40e5-8245-619585fc0743",
   "metadata": {},
   "outputs": [],
   "source": [
    "def test5(a):\n",
    "    \"\"\"\"this is my first fuction \"\"\"\n",
    "    new_list = []\n",
    "    for i in a:\n",
    "        if type(i) == list:\n",
    "            for j in i:\n",
    "                new_list.append(j)\n",
    "        elif type(i) == int or type(i) == float:\n",
    "            new_list.append(i)\n",
    "    return new_list"
   ]
  },
  {
   "cell_type": "code",
   "execution_count": 42,
   "id": "234f71f9-4b51-4a7b-8d49-1a986d3bfe3c",
   "metadata": {},
   "outputs": [
    {
     "data": {
      "text/plain": [
       "[1, 2, 3, 4, 5, 12.5, 7, 8, 9, 5]"
      ]
     },
     "execution_count": 42,
     "metadata": {},
     "output_type": "execute_result"
    }
   ],
   "source": [
    "test5(new_list)"
   ]
  },
  {
   "cell_type": "code",
   "execution_count": 43,
   "id": "ccc87e6f-458f-464a-b856-08b359240d31",
   "metadata": {},
   "outputs": [],
   "source": [
    "def test11(a,b):\n",
    "    return a+b"
   ]
  },
  {
   "cell_type": "code",
   "execution_count": 44,
   "id": "5a7f59a0-7452-4b2e-897f-d10a20618a14",
   "metadata": {},
   "outputs": [],
   "source": [
    "def test12(*args):\n",
    "    return args"
   ]
  },
  {
   "cell_type": "code",
   "execution_count": 46,
   "id": "c1184bcc-85fc-4528-bb61-894f26ced4ff",
   "metadata": {},
   "outputs": [
    {
     "data": {
      "text/plain": [
       "(45, 55, 7, 'sonu', 'kumar', 425.8)"
      ]
     },
     "execution_count": 46,
     "metadata": {},
     "output_type": "execute_result"
    }
   ],
   "source": [
    "test12(45,55,7,\"sonu\", \"kumar\",425.8)"
   ]
  },
  {
   "cell_type": "code",
   "execution_count": 47,
   "id": "aa130de7-8c82-4dd0-9c19-aee5a96f0f55",
   "metadata": {},
   "outputs": [],
   "source": [
    "def test12(*monu):\n",
    "    return monu"
   ]
  },
  {
   "cell_type": "code",
   "execution_count": 48,
   "id": "31a56569-b6f0-4c13-996a-9047f9a1588a",
   "metadata": {},
   "outputs": [
    {
     "data": {
      "text/plain": [
       "(1525, 57966, 'mokjm', 'kskhkjkc', 4585.558, [125, 26, 46])"
      ]
     },
     "execution_count": 48,
     "metadata": {},
     "output_type": "execute_result"
    }
   ],
   "source": [
    "test12(1525,57966,\"mokjm\",  \"kskhkjkc\",4585.558,[125,26,46,])"
   ]
  },
  {
   "cell_type": "code",
   "execution_count": 56,
   "id": "e8b6eacd-150f-464d-bd40-14bdb2014eff",
   "metadata": {},
   "outputs": [],
   "source": [
    "def test13(*sonu, a=30):\n",
    "    return sonu ,a"
   ]
  },
  {
   "cell_type": "code",
   "execution_count": 57,
   "id": "ec442372-d32c-42c8-acfa-0ed2d95055f7",
   "metadata": {},
   "outputs": [
    {
     "data": {
      "text/plain": [
       "((12, 2, 5, 4), 30)"
      ]
     },
     "execution_count": 57,
     "metadata": {},
     "output_type": "execute_result"
    }
   ],
   "source": [
    "test13(12,2,5,4)"
   ]
  },
  {
   "cell_type": "code",
   "execution_count": 58,
   "id": "18a3f892-0d6b-42e1-b6a7-682120e9ddd0",
   "metadata": {},
   "outputs": [],
   "source": [
    "def test112 (a,c,d = 50, n = 60):\n",
    "    return a,c,d,n"
   ]
  },
  {
   "cell_type": "code",
   "execution_count": 59,
   "id": "7384248a-06d4-45af-b1b8-c31adf3cf35d",
   "metadata": {},
   "outputs": [
    {
     "data": {
      "text/plain": [
       "(2, 4, 50, 60)"
      ]
     },
     "execution_count": 59,
     "metadata": {},
     "output_type": "execute_result"
    }
   ],
   "source": [
    "test112(2,4)"
   ]
  },
  {
   "cell_type": "code",
   "execution_count": 60,
   "id": "dca59f5a-92c9-4f35-bf4b-272fe822b43f",
   "metadata": {},
   "outputs": [],
   "source": [
    "def test113 (**sonu):\n",
    "    return sonu"
   ]
  },
  {
   "cell_type": "code",
   "execution_count": 62,
   "id": "a5d8e5fd-0813-4627-b757-b5ca97727529",
   "metadata": {},
   "outputs": [
    {
     "data": {
      "text/plain": [
       "function"
      ]
     },
     "execution_count": 62,
     "metadata": {},
     "output_type": "execute_result"
    }
   ],
   "source": [
    "type(test113)"
   ]
  },
  {
   "cell_type": "code",
   "execution_count": 63,
   "id": "7cde3cef-1761-4eba-a05f-b19f200aaafd",
   "metadata": {},
   "outputs": [
    {
     "data": {
      "text/plain": [
       "{}"
      ]
     },
     "execution_count": 63,
     "metadata": {},
     "output_type": "execute_result"
    }
   ],
   "source": [
    "test113()"
   ]
  },
  {
   "cell_type": "code",
   "execution_count": 64,
   "id": "201572c9-986e-4030-940d-407b3f1ba317",
   "metadata": {},
   "outputs": [
    {
     "data": {
      "text/plain": [
       "dict"
      ]
     },
     "execution_count": 64,
     "metadata": {},
     "output_type": "execute_result"
    }
   ],
   "source": [
    "type(test113())"
   ]
  },
  {
   "cell_type": "code",
   "execution_count": 65,
   "id": "e2ef6786-d6cf-42eb-8acc-72f260fa68d5",
   "metadata": {},
   "outputs": [
    {
     "data": {
      "text/plain": [
       "{'a': [1, 2, 3, 4], 's': [44, 55, 77, 88, 5], 'c': [1, 2, 3, 7]}"
      ]
     },
     "execution_count": 65,
     "metadata": {},
     "output_type": "execute_result"
    }
   ],
   "source": [
    "test113(a=[1,2,3,4] , s =[44,55,77,88,5] , c =[1,2,3,7])"
   ]
  },
  {
   "cell_type": "code",
   "execution_count": null,
   "id": "3702f550-4c4a-433a-bf17-e9c790fb7062",
   "metadata": {},
   "outputs": [],
   "source": []
  }
 ],
 "metadata": {
  "kernelspec": {
   "display_name": "Python 3 (ipykernel)",
   "language": "python",
   "name": "python3"
  },
  "language_info": {
   "codemirror_mode": {
    "name": "ipython",
    "version": 3
   },
   "file_extension": ".py",
   "mimetype": "text/x-python",
   "name": "python",
   "nbconvert_exporter": "python",
   "pygments_lexer": "ipython3",
   "version": "3.10.8"
  }
 },
 "nbformat": 4,
 "nbformat_minor": 5
}
