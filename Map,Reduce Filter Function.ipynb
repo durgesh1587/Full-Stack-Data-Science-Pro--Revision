{
 "cells": [
  {
   "cell_type": "code",
   "execution_count": 1,
   "id": "8b9395a4-7ffc-459c-a42f-341b885c7603",
   "metadata": {},
   "outputs": [],
   "source": [
    "l=[1,2,3,4,5,6]"
   ]
  },
  {
   "cell_type": "code",
   "execution_count": 12,
   "id": "0a2d3fe6-7dc1-413f-864f-d9d80b297b03",
   "metadata": {},
   "outputs": [],
   "source": [
    "def test(l):\n",
    "    l1=[]\n",
    "    for i in l:\n",
    "        l1.append(i**2)\n",
    "    return l1"
   ]
  },
  {
   "cell_type": "code",
   "execution_count": 14,
   "id": "ec69fe7a-e1ee-4dcd-b73b-b1ae697b64ef",
   "metadata": {},
   "outputs": [
    {
     "data": {
      "text/plain": [
       "[1, 4, 9, 16, 25, 36]"
      ]
     },
     "execution_count": 14,
     "metadata": {},
     "output_type": "execute_result"
    }
   ],
   "source": [
    "test(l)"
   ]
  },
  {
   "cell_type": "code",
   "execution_count": 19,
   "id": "7d6ef618-92ad-40b8-a953-215e3673baa8",
   "metadata": {},
   "outputs": [],
   "source": [
    "def test2 (x):\n",
    "    return x**2"
   ]
  },
  {
   "cell_type": "code",
   "execution_count": 20,
   "id": "3f737fe0-3ed2-41aa-baef-ffc059cef677",
   "metadata": {},
   "outputs": [
    {
     "data": {
      "text/plain": [
       "[1, 4, 9, 16, 25, 36]"
      ]
     },
     "execution_count": 20,
     "metadata": {},
     "output_type": "execute_result"
    }
   ],
   "source": [
    "list (map(test2 , l))"
   ]
  },
  {
   "cell_type": "code",
   "execution_count": 22,
   "id": "1583eb5d-b311-4f5b-821a-58769819e063",
   "metadata": {},
   "outputs": [
    {
     "data": {
      "text/plain": [
       "[1, 4, 9, 16, 25, 36]"
      ]
     },
     "execution_count": 22,
     "metadata": {},
     "output_type": "execute_result"
    }
   ],
   "source": [
    "list(map(lambda x : x**2 ,l ))"
   ]
  },
  {
   "cell_type": "code",
   "execution_count": 11,
   "id": "fd704e0f-b805-448d-ae7f-cea36b1d5656",
   "metadata": {},
   "outputs": [
    {
     "data": {
      "text/plain": [
       "[3, 24, 8, 10, 13]"
      ]
     },
     "execution_count": 11,
     "metadata": {},
     "output_type": "execute_result"
    }
   ],
   "source": [
    "l1=[1,23,3,7,8]\n",
    "l2=[2,1,5,3,5,]\n",
    "\n",
    "list(map(lambda x,y :x+y ,l1,l2))"
   ]
  },
  {
   "cell_type": "code",
   "execution_count": 12,
   "id": "c0e0946f-6c4c-4561-a6b4-aa5558e88dbe",
   "metadata": {},
   "outputs": [],
   "source": [
    "def add (x,y) :\n",
    "    return x+y"
   ]
  },
  {
   "cell_type": "code",
   "execution_count": 13,
   "id": "9c3b9292-76b7-4065-8c50-3a11d5412271",
   "metadata": {},
   "outputs": [
    {
     "data": {
      "text/plain": [
       "[3, 24, 8, 10, 13]"
      ]
     },
     "execution_count": 13,
     "metadata": {},
     "output_type": "execute_result"
    }
   ],
   "source": [
    "list(map(add , l1 ,l2 ))"
   ]
  },
  {
   "cell_type": "code",
   "execution_count": 14,
   "id": "14fc74de-66f4-47d9-8201-7266e51adfed",
   "metadata": {},
   "outputs": [
    {
     "data": {
      "text/plain": [
       "['P', 'W', 'S', 'K', 'I', 'L', 'L', 'S']"
      ]
     },
     "execution_count": 14,
     "metadata": {},
     "output_type": "execute_result"
    }
   ],
   "source": [
    "s=\"pwskills\"\n",
    "list(map(lambda s : s.upper(), s))"
   ]
  },
  {
   "cell_type": "code",
   "execution_count": 1,
   "id": "f7ab882b-a480-40d2-a5e5-c26103799a6b",
   "metadata": {},
   "outputs": [],
   "source": [
    "from functools import reduce "
   ]
  },
  {
   "cell_type": "code",
   "execution_count": 2,
   "id": "35eadf83-cd44-49fc-a8c5-5d3aa92e8c86",
   "metadata": {},
   "outputs": [],
   "source": [
    "d = [2,3,4,8,6,5]"
   ]
  },
  {
   "cell_type": "code",
   "execution_count": 3,
   "id": "27e8b30c-a3cf-46f8-a1f3-a70487a5171e",
   "metadata": {},
   "outputs": [
    {
     "data": {
      "text/plain": [
       "28"
      ]
     },
     "execution_count": 3,
     "metadata": {},
     "output_type": "execute_result"
    }
   ],
   "source": [
    "reduce(lambda x,y : x+y ,d)"
   ]
  },
  {
   "cell_type": "code",
   "execution_count": 4,
   "id": "50fed427-83fd-45b6-8dd9-ca705daeb2b1",
   "metadata": {},
   "outputs": [
    {
     "data": {
      "text/plain": [
       "5760"
      ]
     },
     "execution_count": 4,
     "metadata": {},
     "output_type": "execute_result"
    }
   ],
   "source": [
    "reduce(lambda x,y : x*y , d)"
   ]
  },
  {
   "cell_type": "code",
   "execution_count": 6,
   "id": "0d1fd6bb-c202-449f-a72d-e763f072f715",
   "metadata": {},
   "outputs": [
    {
     "data": {
      "text/plain": [
       "[2, 3, 4, 8, 6, 5]"
      ]
     },
     "execution_count": 6,
     "metadata": {},
     "output_type": "execute_result"
    }
   ],
   "source": [
    "d"
   ]
  },
  {
   "cell_type": "code",
   "execution_count": 7,
   "id": "f3b43260-c65a-45e3-9182-61c59baedce9",
   "metadata": {},
   "outputs": [
    {
     "data": {
      "text/plain": [
       "8"
      ]
     },
     "execution_count": 7,
     "metadata": {},
     "output_type": "execute_result"
    }
   ],
   "source": [
    "reduce(lambda x,y : x if x>y else y ,d)"
   ]
  },
  {
   "cell_type": "code",
   "execution_count": 8,
   "id": "79aa5f30-0d7a-48b3-9616-6346587be6ce",
   "metadata": {},
   "outputs": [
    {
     "data": {
      "text/plain": [
       "[2, 3, 4, 8, 6, 5]"
      ]
     },
     "execution_count": 8,
     "metadata": {},
     "output_type": "execute_result"
    }
   ],
   "source": [
    "d"
   ]
  },
  {
   "cell_type": "code",
   "execution_count": 9,
   "id": "1aa7ff71-06b2-4d9a-88ae-5ce09792ffb5",
   "metadata": {},
   "outputs": [
    {
     "data": {
      "text/plain": [
       "[2, 4, 8, 6]"
      ]
     },
     "execution_count": 9,
     "metadata": {},
     "output_type": "execute_result"
    }
   ],
   "source": [
    "list(filter(lambda x : x % 2 == 0 ,d))"
   ]
  },
  {
   "cell_type": "code",
   "execution_count": 11,
   "id": "01aa5d50-737c-47cd-ae9c-b4ad0b900d22",
   "metadata": {},
   "outputs": [
    {
     "data": {
      "text/plain": [
       "[3, 5]"
      ]
     },
     "execution_count": 11,
     "metadata": {},
     "output_type": "execute_result"
    }
   ],
   "source": [
    "list(filter(lambda x : x % 2 != 0 ,d ))"
   ]
  },
  {
   "cell_type": "code",
   "execution_count": 12,
   "id": "9f32b26d-bb75-411b-bdc7-f87a43e50dea",
   "metadata": {},
   "outputs": [],
   "source": [
    "s= [5,8,9,-5,6,-32,-4,6]"
   ]
  },
  {
   "cell_type": "code",
   "execution_count": 14,
   "id": "ba1c7386-0f5c-49d9-9e93-cd3910ae87f9",
   "metadata": {},
   "outputs": [
    {
     "data": {
      "text/plain": [
       "[-5, -32, -4]"
      ]
     },
     "execution_count": 14,
     "metadata": {},
     "output_type": "execute_result"
    }
   ],
   "source": [
    "list(filter(lambda x : x<0 ,s))"
   ]
  },
  {
   "cell_type": "code",
   "execution_count": 15,
   "id": "2ab37502-4916-44f8-9321-4d28e6fdfaba",
   "metadata": {},
   "outputs": [],
   "source": [
    "a=[\"durgesh\",\"skills\",\"knkaslknl\",\"glass\"]"
   ]
  },
  {
   "cell_type": "code",
   "execution_count": 19,
   "id": "236c7b50-4154-4aa4-a481-99ea0217c73d",
   "metadata": {},
   "outputs": [
    {
     "data": {
      "text/plain": [
       "['glass']"
      ]
     },
     "execution_count": 19,
     "metadata": {},
     "output_type": "execute_result"
    }
   ],
   "source": [
    "list(filter(lambda x :len(x) < 6,a))"
   ]
  },
  {
   "cell_type": "code",
   "execution_count": null,
   "id": "832f588b-ac1e-41bd-924c-080141b26c58",
   "metadata": {},
   "outputs": [],
   "source": []
  }
 ],
 "metadata": {
  "kernelspec": {
   "display_name": "Python 3 (ipykernel)",
   "language": "python",
   "name": "python3"
  },
  "language_info": {
   "codemirror_mode": {
    "name": "ipython",
    "version": 3
   },
   "file_extension": ".py",
   "mimetype": "text/x-python",
   "name": "python",
   "nbconvert_exporter": "python",
   "pygments_lexer": "ipython3",
   "version": "3.10.8"
  }
 },
 "nbformat": 4,
 "nbformat_minor": 5
}
