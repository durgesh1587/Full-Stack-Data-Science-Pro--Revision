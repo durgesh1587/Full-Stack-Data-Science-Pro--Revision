{
 "cells": [
  {
   "cell_type": "code",
   "execution_count": 1,
   "id": "3abac3c8-ed78-4903-8826-8f7cf87da02d",
   "metadata": {},
   "outputs": [],
   "source": [
    "import threading"
   ]
  },
  {
   "cell_type": "code",
   "execution_count": 6,
   "id": "f62f6ba8-eb68-40ab-8360-4153e9494aff",
   "metadata": {},
   "outputs": [],
   "source": [
    "def test (id):\n",
    "    print(\"prog start %d\"% id)"
   ]
  },
  {
   "cell_type": "code",
   "execution_count": 7,
   "id": "8cfecf0a-d598-486f-bd51-63153bda1490",
   "metadata": {},
   "outputs": [
    {
     "name": "stdout",
     "output_type": "stream",
     "text": [
      "prog start 45\n"
     ]
    }
   ],
   "source": [
    "test(45)"
   ]
  },
  {
   "cell_type": "code",
   "execution_count": 37,
   "id": "9864b93b-dbd6-49a2-a5ee-ceb57c6dfa92",
   "metadata": {},
   "outputs": [],
   "source": [
    "Thread=[threading.Thread (target=test,args=(i,))for i in range(10)]"
   ]
  },
  {
   "cell_type": "code",
   "execution_count": 38,
   "id": "575aedce-48ce-4178-80aa-c8ff9cdca89d",
   "metadata": {},
   "outputs": [
    {
     "name": "stdout",
     "output_type": "stream",
     "text": [
      "prog start 0\n",
      "prog start 1\n",
      "prog start 2\n",
      "prog start 3\n",
      "prog start 4\n",
      "prog start 5\n",
      "prog start 6\n",
      "prog start 7\n",
      "prog start 8\n",
      "prog start 9\n"
     ]
    }
   ],
   "source": [
    "for t in Thread :\n",
    "    t.start()"
   ]
  },
  {
   "cell_type": "code",
   "execution_count": 39,
   "id": "a26b2664-4907-45b9-ac70-acb6955d4b88",
   "metadata": {},
   "outputs": [
    {
     "data": {
      "text/plain": [
       "[0, 1, 2, 3, 4, 5, 6, 7, 8, 9]"
      ]
     },
     "execution_count": 39,
     "metadata": {},
     "output_type": "execute_result"
    }
   ],
   "source": [
    "list(range(10))"
   ]
  },
  {
   "cell_type": "code",
   "execution_count": 40,
   "id": "62c97de9-0be5-4164-ba1d-8e47ce0e319e",
   "metadata": {},
   "outputs": [
    {
     "data": {
      "text/plain": [
       "[<Thread(Thread-85 (test), stopped 140244238202432)>,\n",
       " <Thread(Thread-86 (test), stopped 140244238202432)>,\n",
       " <Thread(Thread-87 (test), stopped 140244238202432)>,\n",
       " <Thread(Thread-88 (test), stopped 140244238202432)>,\n",
       " <Thread(Thread-89 (test), stopped 140244238202432)>,\n",
       " <Thread(Thread-90 (test), stopped 140244238202432)>,\n",
       " <Thread(Thread-91 (test), stopped 140244238202432)>,\n",
       " <Thread(Thread-92 (test), stopped 140244238202432)>,\n",
       " <Thread(Thread-93 (test), stopped 140244238202432)>,\n",
       " <Thread(Thread-94 (test), stopped 140244238202432)>]"
      ]
     },
     "execution_count": 40,
     "metadata": {},
     "output_type": "execute_result"
    }
   ],
   "source": [
    "Thread"
   ]
  },
  {
   "cell_type": "code",
   "execution_count": 10,
   "id": "d1770cf4-37ad-4a01-906e-9a6be6ad23bd",
   "metadata": {},
   "outputs": [],
   "source": [
    "import threading\n",
    "import urllib.request\n",
    "\n",
    "def file_downlod (url) :\n",
    "    urllib.request.urlretrieve(url)"
   ]
  },
  {
   "cell_type": "code",
   "execution_count": 12,
   "id": "a711178a-dc98-4b01-8c59-f90a2a35b8a0",
   "metadata": {},
   "outputs": [
    {
     "data": {
      "text/plain": [
       "('file.txt', <http.client.HTTPMessage at 0x7f22581e95d0>)"
      ]
     },
     "execution_count": 12,
     "metadata": {},
     "output_type": "execute_result"
    }
   ],
   "source": [
    "import urllib.request\n",
    "\n",
    "url = 'https://raw.githubusercontent.com/datasciencedojo/datasets/master/titanic.csv'\n",
    "filename = 'file.txt'  # Local filename to save the downloaded file\n",
    "\n",
    "urllib.request.urlretrieve(url, filename)"
   ]
  },
  {
   "cell_type": "code",
   "execution_count": 5,
   "id": "e4164d69-4355-45d8-8067-de58122bf33b",
   "metadata": {},
   "outputs": [
    {
     "name": "stdout",
     "output_type": "stream",
     "text": [
      "test2 0 printing 0\n",
      "test2 1 printing 0\n",
      "test2 2 printing 0\n",
      "test2 1 printing 1test2 0 printing 1\n",
      "test2 2 printing 1\n",
      "\n",
      "test2 0 printing 2test2 2 printing 2\n",
      "test2 1 printing 2\n",
      "\n",
      "test2 2 printing 3\n",
      "test2 0 printing 3\n",
      "test2 1 printing 3\n",
      "test2 2 printing 4test2 0 printing 4\n",
      "\n",
      "test2 1 printing 4\n",
      "test2 0 printing 5\n",
      "test2 2 printing 5\n",
      "test2 1 printing 5\n",
      "test2 0 printing 6\n",
      "test2 2 printing 6\n",
      "test2 1 printing 6\n",
      "test2 0 printing 7\n",
      "test2 2 printing 7\n",
      "test2 1 printing 7\n",
      "test2 0 printing 8\n",
      "test2 1 printing 8\n",
      "test2 2 printing 8\n",
      "test2 0 printing 9\n",
      "test2 1 printing 9\n",
      "test2 2 printing 9\n"
     ]
    }
   ],
   "source": [
    "import time\n",
    "import threading\n",
    "\n",
    "def test2(id):\n",
    "    for i in range(10):\n",
    "        print(\"test2 %d printing %d\" % (id, i))\n",
    "        time.sleep(1)\n",
    "\n",
    "Thread4 = [threading.Thread(target=test2, args=(i,)) for i in range(3)]\n",
    "for t in Thread4:\n",
    "    t.start()\n",
    "       "
   ]
  },
  {
   "cell_type": "code",
   "execution_count": 18,
   "id": "288f038d-69cb-421d-afc9-fcf84d49b651",
   "metadata": {},
   "outputs": [
    {
     "name": "stdout",
     "output_type": "stream",
     "text": [
      "time_0 1 printing 0 Tue Jul 18 17:20:50 2023\n",
      "time_0 0 printing 0 Tue Jul 18 17:20:50 2023\n",
      "time_0 1 printing 0 Tue Jul 18 17:20:50 2023\n",
      "time_0 2 printing 0 Tue Jul 18 17:20:50 2023\n",
      "time_0 1 printing 1 Tue Jul 18 17:20:51 2023\n",
      "time_0 0 printing 1 Tue Jul 18 17:20:51 2023\n",
      "time_0 1 printing 1 Tue Jul 18 17:20:51 2023\n",
      "time_0 2 printing 1 Tue Jul 18 17:20:51 2023\n",
      "time_0 1 printing 2 Tue Jul 18 17:20:52 2023\n",
      "time_0 0 printing 2 Tue Jul 18 17:20:52 2023\n",
      "time_0 1 printing 2 Tue Jul 18 17:20:52 2023\n",
      "time_0 2 printing 2 Tue Jul 18 17:20:52 2023\n",
      "time_0 1 printing 3 Tue Jul 18 17:20:53 2023\n",
      "time_0 0 printing 3 Tue Jul 18 17:20:53 2023\n",
      "time_0 1 printing 3 Tue Jul 18 17:20:53 2023\n",
      "time_0 2 printing 3 Tue Jul 18 17:20:53 2023\n",
      "time_0 1 printing 4 Tue Jul 18 17:20:54 2023\n",
      "time_0 0 printing 4 Tue Jul 18 17:20:54 2023\n",
      "time_0 1 printing 4 Tue Jul 18 17:20:54 2023\n",
      "time_0 2 printing 4 Tue Jul 18 17:20:54 2023\n",
      "time_0 1 printing 5time_0 2 printing 5 Tue Jul 18 17:20:55 2023\n",
      " Tue Jul 18 17:20:55 2023\n",
      "time_0 0 printing 5 Tue Jul 18 17:20:55 2023\n",
      "time_0 1 printing 5 Tue Jul 18 17:20:55 2023\n",
      "time_0 2 printing 6 Tue Jul 18 17:20:56 2023\n",
      "time_0 1 printing 6 Tue Jul 18 17:20:56 2023\n",
      "time_0 0 printing 6 Tue Jul 18 17:20:56 2023\n",
      "time_0 1 printing 6 Tue Jul 18 17:20:56 2023\n",
      "time_0 2 printing 7time_0 0 printing 7 Tue Jul 18 17:20:57 2023\n",
      "time_0 1 printing 7 Tue Jul 18 17:20:57 2023\n",
      " Tue Jul 18 17:20:57 2023\n",
      "time_0 1 printing 7 Tue Jul 18 17:20:57 2023\n",
      "time_0 0 printing 8 Tue Jul 18 17:20:58 2023\n",
      "time_0 1 printing 8 Tue Jul 18 17:20:58 2023\n",
      "time_0 1 printing 8 Tue Jul 18 17:20:58 2023\n",
      "time_0 2 printing 8 Tue Jul 18 17:20:58 2023\n",
      "time_0 0 printing 9time_0 1 printing 9 Tue Jul 18 17:20:59 2023\n",
      "time_0 2 printing 9 Tue Jul 18 17:20:59 2023\n",
      "time_0 1 printing 9 Tue Jul 18 17:20:59 2023\n",
      " Tue Jul 18 17:20:59 2023\n"
     ]
    }
   ],
   "source": [
    "import time\n",
    "import threading\n",
    "\n",
    "def time_0(id):\n",
    "    for i in range(10):\n",
    "        print(\"time_0 %d printing %d\" % (id, i), time.ctime())\n",
    "        time.sleep(1)\n",
    "        \n",
    "# Create a new thread and run time_0 in it\n",
    "thread = threading.Thread(target=time_0, args=(1,))\n",
    "thread.start()     \n",
    "\n",
    "Thread1 =[threading.Thread(target=time_0 ,args =(i,)) for i in range(3)]\n",
    "\n",
    "for t in Thread1:\n",
    "        t.start()"
   ]
  },
  {
   "cell_type": "code",
   "execution_count": 27,
   "id": "6f860bbf-29af-45da-93e1-cd25ac760093",
   "metadata": {},
   "outputs": [],
   "source": [
    "shared_var = 0\n",
    "lock_var =threading.Lock()"
   ]
  },
  {
   "cell_type": "code",
   "execution_count": 31,
   "id": "beb54c28-883f-46b5-be4f-85ca5e6b134a",
   "metadata": {},
   "outputs": [
    {
     "name": "stdout",
     "output_type": "stream",
     "text": [
      "test1 id is 0 has incresed the shared variable by 8\n",
      "test1 id is 1 has incresed the shared variable by 9\n",
      "test1 id is 2 has incresed the shared variable by 10\n"
     ]
    }
   ],
   "source": [
    "def test1(id) :\n",
    "    global shared_var\n",
    "    with lock_var:\n",
    "        shared_var = shared_var+1\n",
    "        print(\"test1 id is %d has incresed the shared variable by %d\" %(id ,shared_var))\n",
    "        time.sleep(1)\n",
    "Global=[threading.Thread(target=test1,args=(i,)) for i in range (3)]\n",
    "for t in Global :\n",
    "    t.start()"
   ]
  },
  {
   "cell_type": "code",
   "execution_count": 30,
   "id": "a821dd4a-08d5-4996-9a35-7c3d27e0879c",
   "metadata": {},
   "outputs": [
    {
     "name": "stdout",
     "output_type": "stream",
     "text": [
      "test1 id is 0 has incresed the shared variable by 7\n"
     ]
    }
   ],
   "source": [
    "test1(0)"
   ]
  },
  {
   "cell_type": "code",
   "execution_count": 37,
   "id": "5c42cb1a-2a3c-4231-91f1-0d1a12476d89",
   "metadata": {},
   "outputs": [],
   "source": [
    "numbers = [1, 2, 3, 4, 5]"
   ]
  },
  {
   "cell_type": "code",
   "execution_count": 38,
   "id": "e0a45eba-1e0f-4916-83bd-f6305418561d",
   "metadata": {},
   "outputs": [],
   "source": [
    "squared_numbers = map(lambda x: x**2, numbers)"
   ]
  },
  {
   "cell_type": "code",
   "execution_count": 4,
   "id": "e83f242a-e1ef-4165-a0ca-b7e03b92f50c",
   "metadata": {},
   "outputs": [
    {
     "name": "stdout",
     "output_type": "stream",
     "text": [
      "0\n",
      "1\n",
      "2\n",
      "3\n",
      "4\n",
      "5\n",
      "6\n",
      "7\n",
      "8\n",
      "9\n"
     ]
    }
   ],
   "source": [
    "import multiprocessing\n",
    "\n",
    "def producer(q):\n",
    "    for i in range(10):\n",
    "        q.put(i)\n",
    "    q.put(None)  # Indicate the end of data production\n",
    "\n",
    "def consumer(q):\n",
    "    while True:\n",
    "        item = q.get()\n",
    "        if item is None:\n",
    "            break\n",
    "        print(item)\n",
    "\n",
    "if __name__ == '__main__':\n",
    "    queue = multiprocessing.Queue()\n",
    "    m1 = multiprocessing.Process(target=producer, args=(queue,))\n",
    "    m2 = multiprocessing.Process(target=consumer, args=(queue,))\n",
    "    m1.start()\n",
    "    m2.start()\n",
    "    m1.join()\n",
    "    m2.join()\n"
   ]
  },
  {
   "cell_type": "code",
   "execution_count": 3,
   "id": "2bbd1845-ace1-4d19-8fa6-63f8f47ded13",
   "metadata": {},
   "outputs": [
    {
     "name": "stdout",
     "output_type": "stream",
     "text": [
      "[4, 9, 16, 25, 36, 49, 64, 9]\n",
      "[4, 9, 16, 25, 36, 49, 64, 9]\n",
      "[4, 9, 16, 25, 36, 49, 64, 9]\n",
      "[4, 9, 16, 25, 36, 49, 64, 9]\n",
      "[4, 9, 16, 25, 36, 49, 64, 9]\n",
      "[4, 9, 16, 25, 36, 49, 64, 9]\n",
      "[4, 9, 16, 25, 36, 49, 64, 81]\n",
      "[4, 9, 16, 25, 36, 49, 64, 81]\n"
     ]
    }
   ],
   "source": [
    "import multiprocessing\n",
    "\n",
    "def square(index ,value):\n",
    "    value[index] =value[index]**2\n",
    "    \n",
    "if __name__=='__main__':\n",
    "    arr= multiprocessing.Array('i' ,[2,3,4,5,6,7,8,9])\n",
    "    process =[]\n",
    "    for i in range (8):\n",
    "        m=multiprocessing.Process(target=square ,args=(i,arr))\n",
    "        process.append(m)\n",
    "        m.start()\n",
    "    for m in process:\n",
    "        m.join()\n",
    "        print(list(arr))"
   ]
  },
  {
   "cell_type": "code",
   "execution_count": null,
   "id": "43a58948-8d75-4cb2-a483-19ec3b768d70",
   "metadata": {},
   "outputs": [],
   "source": []
  }
 ],
 "metadata": {
  "kernelspec": {
   "display_name": "Python 3 (ipykernel)",
   "language": "python",
   "name": "python3"
  },
  "language_info": {
   "codemirror_mode": {
    "name": "ipython",
    "version": 3
   },
   "file_extension": ".py",
   "mimetype": "text/x-python",
   "name": "python",
   "nbconvert_exporter": "python",
   "pygments_lexer": "ipython3",
   "version": "3.10.8"
  }
 },
 "nbformat": 4,
 "nbformat_minor": 5
}
