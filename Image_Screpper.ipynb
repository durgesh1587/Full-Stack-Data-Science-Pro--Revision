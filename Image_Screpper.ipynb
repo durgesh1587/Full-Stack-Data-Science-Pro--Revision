{
 "cells": [
  {
   "cell_type": "code",
   "execution_count": 2,
   "id": "91c3efa9-841a-4f3d-93cb-e2ec2ea8df6f",
   "metadata": {},
   "outputs": [],
   "source": [
    "import requests\n",
    "from bs4 import BeautifulStoneSoup\n",
    "from urllib.request import urlopen as uReq\n",
    "import logging\n",
    "#import pymongo\n",
    "import os"
   ]
  },
  {
   "cell_type": "code",
   "execution_count": null,
   "id": "67d97153-7764-4f7a-a6b4-b693f08125ff",
   "metadata": {},
   "outputs": [],
   "source": [
    "save_dir = \"images/\"\n",
    "if not os.path.exists(save_dir):\n",
    "    os.makedirs(save_dir)"
   ]
  },
  {
   "cell_type": "code",
   "execution_count": null,
   "id": "caa540b3-1545-4334-a035-433139047e79",
   "metadata": {},
   "outputs": [],
   "source": [
    "hearder ={\"Version 115.0.5790.110 (Official Build) (64-bit)\"}"
   ]
  },
  {
   "cell_type": "code",
   "execution_count": null,
   "id": "60cafd39-8e30-4e92-84f7-df4e9721c76d",
   "metadata": {},
   "outputs": [],
   "source": [
    "query = \"durgesh kharwar\"\n",
    "response = requests.git(f\"https://www.google.com/search?={query}1&rlz=1C1RXQR_enIN1067IN1068&sxsrf=AB5stBjjedzEGLMrtOIVkoC0o6CekWE2Cg:1690741703998&q=durgesh+kharwar&tbm=isch&source=lnms&sa=X&ved=2ahUKEwiGuLHVh7eAAxVPcWwGHb6YCBAQ0pQJegQICxAB&biw=1920&bih=955&dpr=1\")"
   ]
  },
  {
   "cell_type": "code",
   "execution_count": null,
   "id": "4d0c1e36-dbb4-45c7-999e-5facc64b46c1",
   "metadata": {},
   "outputs": [],
   "source": [
    "response"
   ]
  },
  {
   "cell_type": "code",
   "execution_count": null,
   "id": "004c9a90-fb1d-41c3-8f81-72c0eebac9b5",
   "metadata": {},
   "outputs": [],
   "source": []
  }
 ],
 "metadata": {
  "kernelspec": {
   "display_name": "Python 3 (ipykernel)",
   "language": "python",
   "name": "python3"
  },
  "language_info": {
   "codemirror_mode": {
    "name": "ipython",
    "version": 3
   },
   "file_extension": ".py",
   "mimetype": "text/x-python",
   "name": "python",
   "nbconvert_exporter": "python",
   "pygments_lexer": "ipython3",
   "version": "3.10.8"
  }
 },
 "nbformat": 4,
 "nbformat_minor": 5
}
